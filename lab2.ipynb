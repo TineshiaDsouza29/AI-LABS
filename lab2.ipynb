{
  "nbformat": 4,
  "nbformat_minor": 0,
  "metadata": {
    "colab": {
      "provenance": []
    },
    "kernelspec": {
      "name": "python3",
      "display_name": "Python 3"
    },
    "language_info": {
      "name": "python"
    }
  },
  "cells": [
    {
      "cell_type": "markdown",
      "source": [
        "LAB # 2\n",
        "DATASET PREPARATION WITH EXCEL SPREADSHEET AND DATASET PREPROCESSING AND SCALING TECHNIQUES\n"
      ],
      "metadata": {
        "id": "wE7EObDskHMW"
      }
    },
    {
      "cell_type": "code",
      "source": [
        "import pandas as pd\n",
        "\n",
        "# Sample data for Sheet1 and Sheet2\n",
        "data_sheet1 = {\n",
        "    'Name': ['Alice', 'Bob', 'Charlie'],\n",
        "    'Age': [24, 27, 22]\n",
        "}\n",
        "\n",
        "data_sheet2 = {\n",
        "    'Product': ['Book', 'Pen', 'Notebook'],\n",
        "    'Price': [15, 5, 10]\n",
        "}\n",
        "\n",
        "df_sheet1 = pd.DataFrame(data_sheet1)\n",
        "df_sheet2 = pd.DataFrame(data_sheet2)\n",
        "\n",
        "# Write DataFrames to an Excel file with two sheets\n",
        "with pd.ExcelWriter('sample_data.xlsx') as writer:\n",
        "    df_sheet1.to_excel(writer, sheet_name='Sheet1', index=False)\n",
        "    df_sheet2.to_excel(writer, sheet_name='Sheet2', index=False)\n"
      ],
      "metadata": {
        "id": "IS45yqR7kJRf"
      },
      "execution_count": 1,
      "outputs": []
    },
    {
      "cell_type": "code",
      "source": [
        "# Load the Excel file\n",
        "excel_data = pd.ExcelFile('sample_data.xlsx')\n",
        "\n",
        "# Load the two sheets into separate DataFrames\n",
        "sheet1_df = excel_data.parse(sheet_name='Sheet1')\n",
        "sheet2_df = excel_data.parse(sheet_name='Sheet2')\n",
        "\n",
        "# Print the contents of both sheets\n",
        "print(\"Contents of Sheet 1:\")\n",
        "print(sheet1_df)\n",
        "\n",
        "print(\"\\nContents of Sheet 2:\")\n",
        "print(sheet2_df)\n"
      ],
      "metadata": {
        "colab": {
          "base_uri": "https://localhost:8080/"
        },
        "id": "9e8GhYcykZR2",
        "outputId": "cf76ee65-3629-472e-c1b5-7476c0e9c01d"
      },
      "execution_count": 2,
      "outputs": [
        {
          "output_type": "stream",
          "name": "stdout",
          "text": [
            "Contents of Sheet 1:\n",
            "      Name  Age\n",
            "0    Alice   24\n",
            "1      Bob   27\n",
            "2  Charlie   22\n",
            "\n",
            "Contents of Sheet 2:\n",
            "    Product  Price\n",
            "0      Book     15\n",
            "1       Pen      5\n",
            "2  Notebook     10\n"
          ]
        }
      ]
    },
    {
      "cell_type": "code",
      "source": [
        "import pandas as pd\n",
        "\n",
        "# Define custom index values\n",
        "index_values = ['Ali', 'Amir', 'Kamran', 'Sara', 'Zain']\n",
        "\n",
        "# Define the column names (subjects)\n",
        "column_names = ['Math', 'Science', 'English', 'History']\n",
        "\n",
        "# Create sample data for the DataFrame\n",
        "data = [\n",
        "    [85, 90, 78, 88],  # Scores for Ali\n",
        "    [76, 85, 82, 91],  # Scores for Amir\n",
        "    [89, 92, 80, 84],  # Scores for Kamran\n",
        "    [91, 87, 88, 90],  # Scores for Sara\n",
        "    [79, 82, 91, 83]   # Scores for Zain\n",
        "]\n",
        "\n",
        "# Create the DataFrame\n",
        "df = pd.DataFrame(data, columns=column_names, index=index_values)\n",
        "\n",
        "# Display the DataFrame\n",
        "print(df)\n"
      ],
      "metadata": {
        "colab": {
          "base_uri": "https://localhost:8080/"
        },
        "id": "K4gcVJmWm4zr",
        "outputId": "9fa8a865-54c5-40fd-c4fc-38a50ee8196c"
      },
      "execution_count": 3,
      "outputs": [
        {
          "output_type": "stream",
          "name": "stdout",
          "text": [
            "        Math  Science  English  History\n",
            "Ali       85       90       78       88\n",
            "Amir      76       85       82       91\n",
            "Kamran    89       92       80       84\n",
            "Sara      91       87       88       90\n",
            "Zain      79       82       91       83\n"
          ]
        }
      ]
    },
    {
      "cell_type": "code",
      "source": [
        "import pandas as pd\n",
        "\n",
        "# Define the data\n",
        "index_values = ['Ali', 'Amir', 'Kamran', 'Sara', 'Zain']\n",
        "column_names = ['Math', 'Science', 'English', 'History']\n",
        "data = [\n",
        "    [85, 90, 78, 88],\n",
        "    [76, 85, 82, 91],\n",
        "    [89, 92, 80, 84],\n",
        "    [91, 87, 88, 90],\n",
        "    [79, 82, 91, 83]\n",
        "]\n",
        "\n",
        "# Create the DataFrame\n",
        "df = pd.DataFrame(data, columns=column_names, index=index_values)\n",
        "\n",
        "# Save the DataFrame to an Excel file\n",
        "df.to_excel('students_scores.xlsx')\n"
      ],
      "metadata": {
        "id": "SaaMBBaborNu"
      },
      "execution_count": 6,
      "outputs": []
    },
    {
      "cell_type": "code",
      "source": [
        "# Load the Excel file\n",
        "df_loaded = pd.read_excel('students_scores.xlsx', index_col=0)\n",
        "\n",
        "# Select only the first two columns\n",
        "df_first_two_columns = df_loaded[['Math', 'Science']]\n",
        "\n",
        "# Print the first two columns\n",
        "print(df_first_two_columns)\n"
      ],
      "metadata": {
        "colab": {
          "base_uri": "https://localhost:8080/"
        },
        "id": "VA_xEUIiovF8",
        "outputId": "848e4257-98a7-44e2-ef12-0735fd6b995d"
      },
      "execution_count": 7,
      "outputs": [
        {
          "output_type": "stream",
          "name": "stdout",
          "text": [
            "        Math  Science\n",
            "Ali       85       90\n",
            "Amir      76       85\n",
            "Kamran    89       92\n",
            "Sara      91       87\n",
            "Zain      79       82\n"
          ]
        }
      ]
    },
    {
      "cell_type": "code",
      "source": [
        "import pandas as pd\n",
        "\n",
        "# Load the Excel file and skip the first two rows\n",
        "df = pd.read_excel('students_scores.xlsx', index_col=0, skiprows=2)\n",
        "\n",
        "# Print the DataFrame\n",
        "print(df)\n"
      ],
      "metadata": {
        "colab": {
          "base_uri": "https://localhost:8080/"
        },
        "id": "qGecUnK6puHo",
        "outputId": "a4043bd6-d7d0-4504-9daf-62f685729129"
      },
      "execution_count": 8,
      "outputs": [
        {
          "output_type": "stream",
          "name": "stdout",
          "text": [
            "        76  85  82  91\n",
            "Amir                  \n",
            "Kamran  89  92  80  84\n",
            "Sara    91  87  88  90\n",
            "Zain    79  82  91  83\n"
          ]
        }
      ]
    },
    {
      "cell_type": "code",
      "source": [
        "import pandas as pd\n",
        "\n",
        "# Sample data for employees with some missing values in the Gender column\n",
        "data = {\n",
        "    'EmployeeID': range(1, 51),\n",
        "    'Name': ['Employee ' + str(i) for i in range(1, 51)],\n",
        "    'Gender': ['Male', 'Female', None, 'Male', None] * 10  # Some values are None (missing)\n",
        "}\n",
        "\n",
        "# Create the DataFrame\n",
        "df = pd.DataFrame(data)\n",
        "\n",
        "# Save to CSV\n",
        "df.to_csv('employees.csv', index=False)\n"
      ],
      "metadata": {
        "id": "sftnGw3ar6y0"
      },
      "execution_count": 10,
      "outputs": []
    },
    {
      "cell_type": "code",
      "source": [
        "# Load the CSV file\n",
        "df_loaded = pd.read_csv('employees.csv')\n",
        "\n",
        "# Fill null values in the \"Gender\" column with \"No Gender\"\n",
        "df_loaded['Gender'].fillna('No Gender', inplace=True)\n",
        "\n",
        "# Print rows 10 to 30 of the DataFrame for visualization\n",
        "print(df_loaded.iloc[10:30])\n"
      ],
      "metadata": {
        "colab": {
          "base_uri": "https://localhost:8080/"
        },
        "id": "f5vsgZTvr9n_",
        "outputId": "65112ca5-b258-4e89-eae2-4d982bd81ca8"
      },
      "execution_count": 11,
      "outputs": [
        {
          "output_type": "stream",
          "name": "stdout",
          "text": [
            "    EmployeeID         Name     Gender\n",
            "10          11  Employee 11       Male\n",
            "11          12  Employee 12     Female\n",
            "12          13  Employee 13  No Gender\n",
            "13          14  Employee 14       Male\n",
            "14          15  Employee 15  No Gender\n",
            "15          16  Employee 16       Male\n",
            "16          17  Employee 17     Female\n",
            "17          18  Employee 18  No Gender\n",
            "18          19  Employee 19       Male\n",
            "19          20  Employee 20  No Gender\n",
            "20          21  Employee 21       Male\n",
            "21          22  Employee 22     Female\n",
            "22          23  Employee 23  No Gender\n",
            "23          24  Employee 24       Male\n",
            "24          25  Employee 25  No Gender\n",
            "25          26  Employee 26       Male\n",
            "26          27  Employee 27     Female\n",
            "27          28  Employee 28  No Gender\n",
            "28          29  Employee 29       Male\n",
            "29          30  Employee 30  No Gender\n"
          ]
        },
        {
          "output_type": "stream",
          "name": "stderr",
          "text": [
            "<ipython-input-11-7ef3e6aad833>:5: FutureWarning: A value is trying to be set on a copy of a DataFrame or Series through chained assignment using an inplace method.\n",
            "The behavior will change in pandas 3.0. This inplace method will never work because the intermediate object on which we are setting values always behaves as a copy.\n",
            "\n",
            "For example, when doing 'df[col].method(value, inplace=True)', try using 'df.method({col: value}, inplace=True)' or df[col] = df[col].method(value) instead, to perform the operation inplace on the original object.\n",
            "\n",
            "\n",
            "  df_loaded['Gender'].fillna('No Gender', inplace=True)\n"
          ]
        }
      ]
    },
    {
      "cell_type": "code",
      "source": [
        "import pandas as pd\n",
        "\n",
        "# Load the CSV file\n",
        "df = pd.read_csv('employees.csv')\n",
        "\n",
        "# Assuming the \"Age\" and \"Salary\" columns exist in the data, let's add them to the sample data\n",
        "import numpy as np\n",
        "np.random.seed(0)  # For reproducibility\n",
        "\n",
        "# Add random Age and Salary columns if they don't exist\n",
        "if 'Age' not in df.columns:\n",
        "    df['Age'] = np.random.randint(20, 60, size=len(df))  # Random ages between 20 and 60\n",
        "if 'Salary' not in df.columns:\n",
        "    df['Salary'] = np.random.randint(30000, 100000, size=len(df))  # Random salaries between 30,000 and 100,000\n",
        "\n",
        "# Define the Min-Max normalization function\n",
        "def min_max_normalize(column):\n",
        "    return (column - column.min()) / (column.max() - column.min())\n",
        "\n",
        "# Apply normalization to the Age and Salary columns\n",
        "df['Age_normalized'] = min_max_normalize(df['Age'])\n",
        "df['Salary_normalized'] = min_max_normalize(df['Salary'])\n",
        "\n",
        "# Print the first 10 rows to see the normalized values\n",
        "print(\"Original and normalized values for Age and Salary:\")\n",
        "print(df[['Age', 'Age_normalized', 'Salary', 'Salary_normalized']].head(10))\n",
        "\n",
        "# Verify for a single value using the formula\n",
        "x_i = df['Age'].iloc[0]  # Taking the first Age value\n",
        "min_x = df['Age'].min()\n",
        "max_x = df['Age'].max()\n",
        "x_new = (x_i - min_x) / (max_x - min_x)\n",
        "\n",
        "print(f\"\\nVerification for first Age value: {x_i}\")\n",
        "print(f\"Manual calculation: {x_new}\")\n",
        "print(f\"Normalized value in DataFrame: {df['Age_normalized'].iloc[0]}\")\n"
      ],
      "metadata": {
        "colab": {
          "base_uri": "https://localhost:8080/"
        },
        "id": "Ob1-DyBp0h_9",
        "outputId": "68627065-d731-4016-f6ed-8d7c852bacbf"
      },
      "execution_count": 12,
      "outputs": [
        {
          "output_type": "stream",
          "name": "stdout",
          "text": [
            "Original and normalized values for Age and Salary:\n",
            "   Age  Age_normalized  Salary  Salary_normalized\n",
            "0   20        0.000000   89300           0.887519\n",
            "1   23        0.076923   50006           0.274422\n",
            "2   23        0.076923   33560           0.017818\n",
            "3   59        1.000000   91713           0.925169\n",
            "4   29        0.230769   75444           0.671327\n",
            "5   39        0.487179   76522           0.688147\n",
            "6   41        0.538462   50737           0.285828\n",
            "7   56        0.923077   58647           0.409246\n",
            "8   43        0.589744   91353           0.919552\n",
            "9   26        0.153846   42134           0.151597\n",
            "\n",
            "Verification for first Age value: 20\n",
            "Manual calculation: 0.0\n",
            "Normalized value in DataFrame: 0.0\n"
          ]
        }
      ]
    },
    {
      "cell_type": "code",
      "source": [
        "import pandas as pd\n",
        "import numpy as np\n",
        "\n",
        "# Given dictionary\n",
        "data_dict = {\n",
        "    'First Score': [100, 90, np.nan, 95],\n",
        "    'Second Score': [30, 45, 56, np.nan],\n",
        "    'Third Score': [np.nan, 40, 80, 98]\n",
        "}\n",
        "\n",
        "# Create a DataFrame from the dictionary\n",
        "df = pd.DataFrame(data_dict)\n",
        "\n",
        "# Interpolate missing values using backward interpolation\n",
        "df_interpolated = df.interpolate(method='bfill')\n",
        "\n",
        "# Display the interpolated DataFrame\n",
        "print(df_interpolated)\n"
      ],
      "metadata": {
        "colab": {
          "base_uri": "https://localhost:8080/"
        },
        "id": "X7vXSlxD3cnU",
        "outputId": "408720e5-3ee8-40b1-8a85-be6d165ccc3f"
      },
      "execution_count": 13,
      "outputs": [
        {
          "output_type": "stream",
          "name": "stdout",
          "text": [
            "   First Score  Second Score  Third Score\n",
            "0        100.0          30.0         40.0\n",
            "1         90.0          45.0         40.0\n",
            "2         95.0          56.0         80.0\n",
            "3         95.0           NaN         98.0\n"
          ]
        },
        {
          "output_type": "stream",
          "name": "stderr",
          "text": [
            "<ipython-input-13-f404be03f6c1>:15: FutureWarning: DataFrame.interpolate with method=bfill is deprecated and will raise in a future version. Use obj.ffill() or obj.bfill() instead.\n",
            "  df_interpolated = df.interpolate(method='bfill')\n"
          ]
        }
      ]
    }
  ]
}