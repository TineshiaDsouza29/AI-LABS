{
  "nbformat": 4,
  "nbformat_minor": 0,
  "metadata": {
    "colab": {
      "provenance": []
    },
    "kernelspec": {
      "name": "python3",
      "display_name": "Python 3"
    },
    "language_info": {
      "name": "python"
    }
  },
  "cells": [
    {
      "cell_type": "code",
      "execution_count": 1,
      "metadata": {
        "id": "6bIoksGEnMi1"
      },
      "outputs": [],
      "source": []
    },
    {
      "cell_type": "markdown",
      "source": [
        "LAB # 01\n",
        "INTRODUCTION TO PYTHON , OPERATOR ,STRING AND FUNCTION , LOOP AND CONDITIONAL STATEMENTS\n"
      ],
      "metadata": {
        "id": "ctJUsBe8qXtb"
      }
    },
    {
      "cell_type": "code",
      "source": [
        "# Get input from the user\n",
        "number = int(input(\"Enter a number: \"))\n",
        "\n",
        "# Perform the operations\n",
        "result = (number + 3) * 2 - 4 + 3\n",
        "\n",
        "# Print the result\n",
        "print(\"The result is:\", result)\n"
      ],
      "metadata": {
        "colab": {
          "base_uri": "https://localhost:8080/"
        },
        "id": "55S19R3LqbRX",
        "outputId": "c5634b74-a65e-418e-8d38-d1d283724bbb"
      },
      "execution_count": 2,
      "outputs": [
        {
          "output_type": "stream",
          "name": "stdout",
          "text": [
            "Enter a number: 50\n",
            "The result is: 105\n"
          ]
        }
      ]
    },
    {
      "cell_type": "code",
      "source": [
        "# Get input from the user\n",
        "celsius = float(input(\"Enter temperature in Celsius: \"))\n",
        "\n",
        "# Convert Celsius to Fahrenheit\n",
        "fahrenheit = (celsius * 1.8) + 32\n",
        "\n",
        "# Print the result\n",
        "print(f\"The temperature in Fahrenheit is: {fahrenheit}\")\n"
      ],
      "metadata": {
        "colab": {
          "base_uri": "https://localhost:8080/"
        },
        "id": "tnt8oV75vRKq",
        "outputId": "424763c9-abab-4d6f-b79f-a1578d28595b"
      },
      "execution_count": 3,
      "outputs": [
        {
          "output_type": "stream",
          "name": "stdout",
          "text": [
            "Enter temperature in Celsius: 2.4\n",
            "The temperature in Fahrenheit is: 36.32\n"
          ]
        }
      ]
    },
    {
      "cell_type": "code",
      "source": [
        "import math\n",
        "\n",
        "# Get input from the user\n",
        "radius = float(input(\"Enter the radius of the circle: \"))\n",
        "\n",
        "# Calculate the area of the circle\n",
        "area = math.pi * (radius ** 2)\n",
        "\n",
        "# Print the result\n",
        "print(f\"The area of the circle is: {area}\")\n"
      ],
      "metadata": {
        "colab": {
          "base_uri": "https://localhost:8080/"
        },
        "id": "caos8e0Hw0H6",
        "outputId": "d4e3ba77-21b4-4d62-b152-3d773c149e31"
      },
      "execution_count": 4,
      "outputs": [
        {
          "output_type": "stream",
          "name": "stdout",
          "text": [
            "Enter the radius of the circle: 3.5\n",
            "The area of the circle is: 38.48451000647496\n"
          ]
        }
      ]
    },
    {
      "cell_type": "code",
      "source": [
        "# Get input from the user\n",
        "color = input(\"Enter your favorite color: \")\n",
        "\n",
        "# Create the required pattern\n",
        "print((color * 10).center(60))\n",
        "print((color + ' ' * 8 + color).center(60))\n",
        "print((color * 10).center(60))\n"
      ],
      "metadata": {
        "colab": {
          "base_uri": "https://localhost:8080/"
        },
        "id": "IUOX1VNA1vz8",
        "outputId": "75f09624-ad6b-411d-f61a-c055789859b7"
      },
      "execution_count": 8,
      "outputs": [
        {
          "output_type": "stream",
          "name": "stdout",
          "text": [
            "Enter your favorite color: blue\n",
            "          blueblueblueblueblueblueblueblueblueblue          \n",
            "                      blue        blue                      \n",
            "          blueblueblueblueblueblueblueblueblueblue          \n"
          ]
        }
      ]
    },
    {
      "cell_type": "code",
      "source": [
        "# Store the person's name with whitespace characters\n",
        "name = \"\\t\\n   tineshia   \\n\\t\"\n",
        "\n",
        "# Print the name with whitespace\n",
        "print(\"Name with whitespace:\")\n",
        "print(f\"'{name}'\")  # Using quotes to visualize the whitespace\n",
        "\n",
        "# Strip functions\n",
        "print(\"\\nUsing lstrip():\")\n",
        "print(f\"'{name.lstrip()}'\")  # Removes leading (left) whitespace\n",
        "\n",
        "print(\"\\nUsing rstrip():\")\n",
        "print(f\"'{name.rstrip()}'\")  # Removes trailing (right) whitespace\n",
        "\n",
        "print(\"\\nUsing strip():\")\n",
        "print(f\"'{name.strip()}'\")  # Removes both leading and trailing whitespace\n"
      ],
      "metadata": {
        "colab": {
          "base_uri": "https://localhost:8080/"
        },
        "id": "UJetnoaV30lN",
        "outputId": "967a0089-c92c-400c-e6be-250c13183c04"
      },
      "execution_count": 10,
      "outputs": [
        {
          "output_type": "stream",
          "name": "stdout",
          "text": [
            "Name with whitespace:\n",
            "'\t\n",
            "   tineshia   \n",
            "\t'\n",
            "\n",
            "Using lstrip():\n",
            "'tineshia   \n",
            "\t'\n",
            "\n",
            "Using rstrip():\n",
            "'\t\n",
            "   tineshia'\n",
            "\n",
            "Using strip():\n",
            "'tineshia'\n"
          ]
        }
      ]
    },
    {
      "cell_type": "code",
      "source": [
        "# Get input from the user\n",
        "number = int(input(\"Enter a number to create its multiplication table: \"))\n",
        "\n",
        "# Print the multiplication table\n",
        "print(f\"Multiplication Table for {number}:\")\n",
        "for i in range(1, 11):\n",
        "    result = number * i\n",
        "    print(f\"{number} x {i} = {result}\")\n"
      ],
      "metadata": {
        "colab": {
          "base_uri": "https://localhost:8080/"
        },
        "id": "l8Pezr-Y42N2",
        "outputId": "96555519-9b07-4691-8a7d-18fd71563237"
      },
      "execution_count": 11,
      "outputs": [
        {
          "output_type": "stream",
          "name": "stdout",
          "text": [
            "Enter a number to create its multiplication table: 10\n",
            "Multiplication Table for 10:\n",
            "10 x 1 = 10\n",
            "10 x 2 = 20\n",
            "10 x 3 = 30\n",
            "10 x 4 = 40\n",
            "10 x 5 = 50\n",
            "10 x 6 = 60\n",
            "10 x 7 = 70\n",
            "10 x 8 = 80\n",
            "10 x 9 = 90\n",
            "10 x 10 = 100\n"
          ]
        }
      ]
    },
    {
      "cell_type": "code",
      "source": [
        "def describe_city(city, country='Pakistan'):\n",
        "    print(f\"{city} is in {country}.\")\n",
        "\n",
        "# Call the function for three different cities\n",
        "describe_city('Islamabad')        # Default country (Pakistan)\n",
        "describe_city('Lahore')           # Default country (Pakistan)\n",
        "describe_city('New York', 'USA')  # Different country\n"
      ],
      "metadata": {
        "colab": {
          "base_uri": "https://localhost:8080/"
        },
        "id": "K6tNbDmK6xR4",
        "outputId": "c35feae6-4cc6-4bbb-85df-a66fa69cc772"
      },
      "execution_count": 12,
      "outputs": [
        {
          "output_type": "stream",
          "name": "stdout",
          "text": [
            "Islamabad is in Pakistan.\n",
            "Lahore is in Pakistan.\n",
            "New York is in USA.\n"
          ]
        }
      ]
    },
    {
      "cell_type": "code",
      "source": [
        "def absolute_num(num):\n",
        "    if num < 0:\n",
        "        return -num\n",
        "    else:\n",
        "        return num\n",
        "\n",
        "print(absolute_num(-10))\n",
        "print(absolute_num(5))\n",
        "print(absolute_num(0))\n"
      ],
      "metadata": {
        "colab": {
          "base_uri": "https://localhost:8080/"
        },
        "id": "R5A4BB6Q_Mjk",
        "outputId": "d151c609-d951-4baf-d699-100f0442c017"
      },
      "execution_count": 13,
      "outputs": [
        {
          "output_type": "stream",
          "name": "stdout",
          "text": [
            "10\n",
            "5\n",
            "0\n"
          ]
        }
      ]
    },
    {
      "cell_type": "code",
      "source": [
        "char = input(\"Enter an alphabet: \").lower()\n",
        "\n",
        "if len(char) != 1 or not char.isalpha():\n",
        "    print(\"Please enter a single alphabet character.\")\n",
        "else:\n",
        "    if char in 'aeiou':\n",
        "        print(f\"{char} is a vowel.\")\n",
        "    else:\n",
        "        print(f\"{char} is a consonant.\")\n"
      ],
      "metadata": {
        "colab": {
          "base_uri": "https://localhost:8080/"
        },
        "id": "rco1MEg7AbCc",
        "outputId": "047f5e20-9672-4162-c6a5-bff4451c363e"
      },
      "execution_count": 14,
      "outputs": [
        {
          "output_type": "stream",
          "name": "stdout",
          "text": [
            "Enter an alphabet: I\n",
            "i is a vowel.\n"
          ]
        }
      ]
    },
    {
      "cell_type": "code",
      "source": [
        "def is_prime(num):\n",
        "    if num <= 1:\n",
        "        return False\n",
        "    for i in range(2, int(num**0.5) + 1):\n",
        "        if num % i == 0:\n",
        "            return False\n",
        "    return True\n",
        "\n",
        "number = int(input(\"Enter a number: \"))\n",
        "\n",
        "if is_prime(number):\n",
        "    print(f\"{number} is a prime number.\")\n",
        "else:\n",
        "    print(f\"{number} is not a prime number.\")\n"
      ],
      "metadata": {
        "colab": {
          "base_uri": "https://localhost:8080/"
        },
        "id": "QZUsieH9BJDP",
        "outputId": "1a48884e-25b5-4b7a-9bc8-eb9bf768809b"
      },
      "execution_count": 15,
      "outputs": [
        {
          "output_type": "stream",
          "name": "stdout",
          "text": [
            "Enter a number: 10\n",
            "10 is not a prime number.\n"
          ]
        }
      ]
    },
    {
      "cell_type": "code",
      "source": [
        "for number in range(7):\n",
        "    if number == 3 or number == 6:\n",
        "        continue\n",
        "    print(number)\n"
      ],
      "metadata": {
        "colab": {
          "base_uri": "https://localhost:8080/"
        },
        "id": "jrAilt6dCHYK",
        "outputId": "2b085298-9087-44c7-e862-df078d5bc610"
      },
      "execution_count": 16,
      "outputs": [
        {
          "output_type": "stream",
          "name": "stdout",
          "text": [
            "0\n",
            "1\n",
            "2\n",
            "4\n",
            "5\n"
          ]
        }
      ]
    },
    {
      "cell_type": "code",
      "source": [
        "rows = 5\n",
        "\n",
        "for i in range(1, rows + 1):\n",
        "    for j in range(i):\n",
        "        print(i, end=' ')\n",
        "    print()\n"
      ],
      "metadata": {
        "colab": {
          "base_uri": "https://localhost:8080/"
        },
        "id": "Sp_yb7jNGw8K",
        "outputId": "3d886cf8-3b6a-4bbb-ce86-d94e216cdb56"
      },
      "execution_count": 17,
      "outputs": [
        {
          "output_type": "stream",
          "name": "stdout",
          "text": [
            "1 \n",
            "2 2 \n",
            "3 3 3 \n",
            "4 4 4 4 \n",
            "5 5 5 5 5 \n"
          ]
        }
      ]
    },
    {
      "cell_type": "code",
      "source": [
        "age = 25\n",
        "\n",
        "if age < 2:\n",
        "    print(\"The person is a baby.\")\n",
        "elif age >= 4 and age < 13:\n",
        "    print(\"The person is a kid.\")\n",
        "elif age >= 13 and age < 20:\n",
        "    print(\"The person is a teenager.\")\n",
        "elif age >= 20 and age < 65:\n",
        "    print(\"The person is an adult.\")\n",
        "else:  # age >= 65\n",
        "    print(\"The person is an elder.\")\n"
      ],
      "metadata": {
        "colab": {
          "base_uri": "https://localhost:8080/"
        },
        "id": "F8SCV87eHnmH",
        "outputId": "3f13dbd6-fa51-40a2-94ff-0f85cec7a762"
      },
      "execution_count": 18,
      "outputs": [
        {
          "output_type": "stream",
          "name": "stdout",
          "text": [
            "The person is an adult.\n"
          ]
        }
      ]
    }
  ]
}